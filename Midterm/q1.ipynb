{
 "cells": [
  {
   "cell_type": "markdown",
   "metadata": {},
   "source": [
    "# Code for Q1"
   ]
  },
  {
   "cell_type": "markdown",
   "metadata": {},
   "source": [
    "- Q1-a:  "
   ]
  },
  {
   "cell_type": "code",
   "execution_count": null,
   "metadata": {},
   "outputs": [],
   "source": [
    "'''\n",
    "The code performs a series of operations on a dataset to transform and analyze it according to specific criteria,\n",
    "working with a dataset that categorizes entries by groups and categories, each with a value. \n",
    "Let’s look step by step: Load Data, Create a Nested Dictionary(where each key is a unique group, \n",
    "and each group contains another dictionary of categories and their corresponding values.), \n",
    "Binary Representation of Category Presence,  DataFrame Creation, Count Columns Redundancy, \n",
    "and Filtering and Result Calculation. The code's overall goal seems to be to analyze the presence or absence \n",
    "of certain categories within groups in the dataset and quantify groups lacking a specific category(D in this case).\n",
    "'''"
   ]
  },
  {
   "cell_type": "markdown",
   "metadata": {},
   "source": [
    "- Q1-b:"
   ]
  },
  {
   "cell_type": "code",
   "execution_count": null,
   "metadata": {},
   "outputs": [],
   "source": [
    "import pandas as pd\n",
    "\n",
    "df = pd.read_csv(\"question.csv\")\n",
    "\n",
    "# Create a pivot table with groups as index, categories as columns, and any column (e.g., 'Value') as values.\n",
    "# Use any aggregation function, here count, since we're only interested in the presence (1) or absence (0) of categories.\n",
    "pivot_df = df.pivot_table(index='Group', columns='Category', values='Value', aggfunc='count', fill_value=0)\n",
    "\n",
    "# Convert counts to binary (1 for presence, 0 for absence of the category)\n",
    "pivot_df = pivot_df.applymap(lambda x: 1 if x > 0 else 0)\n",
    "\n",
    "# Count the number of groups where category D is absent\n",
    "result = (pivot_df[\"D\"] == 0).sum()\n",
    "print(result)\n"
   ]
  }
 ],
 "metadata": {
  "language_info": {
   "name": "python"
  }
 },
 "nbformat": 4,
 "nbformat_minor": 2
}
