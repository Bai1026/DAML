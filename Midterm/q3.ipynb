{
 "cells": [
  {
   "cell_type": "markdown",
   "metadata": {},
   "source": [
    "# For Q3\n",
    "- All the answers are in either codes or '''...'''"
   ]
  },
  {
   "cell_type": "code",
   "execution_count": 2,
   "metadata": {},
   "outputs": [
    {
     "data": {
      "text/html": [
       "<div>\n",
       "<style scoped>\n",
       "    .dataframe tbody tr th:only-of-type {\n",
       "        vertical-align: middle;\n",
       "    }\n",
       "\n",
       "    .dataframe tbody tr th {\n",
       "        vertical-align: top;\n",
       "    }\n",
       "\n",
       "    .dataframe thead th {\n",
       "        text-align: right;\n",
       "    }\n",
       "</style>\n",
       "<table border=\"1\" class=\"dataframe\">\n",
       "  <thead>\n",
       "    <tr style=\"text-align: right;\">\n",
       "      <th></th>\n",
       "      <th>Motor ID</th>\n",
       "      <th>Lifespan (hours)</th>\n",
       "    </tr>\n",
       "  </thead>\n",
       "  <tbody>\n",
       "    <tr>\n",
       "      <th>0</th>\n",
       "      <td>1</td>\n",
       "      <td>980</td>\n",
       "    </tr>\n",
       "    <tr>\n",
       "      <th>1</th>\n",
       "      <td>2</td>\n",
       "      <td>1050</td>\n",
       "    </tr>\n",
       "    <tr>\n",
       "      <th>2</th>\n",
       "      <td>3</td>\n",
       "      <td>990</td>\n",
       "    </tr>\n",
       "    <tr>\n",
       "      <th>3</th>\n",
       "      <td>4</td>\n",
       "      <td>1100</td>\n",
       "    </tr>\n",
       "    <tr>\n",
       "      <th>4</th>\n",
       "      <td>5</td>\n",
       "      <td>1000</td>\n",
       "    </tr>\n",
       "    <tr>\n",
       "      <th>5</th>\n",
       "      <td>6</td>\n",
       "      <td>980</td>\n",
       "    </tr>\n",
       "    <tr>\n",
       "      <th>6</th>\n",
       "      <td>7</td>\n",
       "      <td>1020</td>\n",
       "    </tr>\n",
       "    <tr>\n",
       "      <th>7</th>\n",
       "      <td>8</td>\n",
       "      <td>990</td>\n",
       "    </tr>\n",
       "    <tr>\n",
       "      <th>8</th>\n",
       "      <td>9</td>\n",
       "      <td>950</td>\n",
       "    </tr>\n",
       "    <tr>\n",
       "      <th>9</th>\n",
       "      <td>10</td>\n",
       "      <td>1020</td>\n",
       "    </tr>\n",
       "  </tbody>\n",
       "</table>\n",
       "</div>"
      ],
      "text/plain": [
       "   Motor ID  Lifespan (hours)\n",
       "0         1               980\n",
       "1         2              1050\n",
       "2         3               990\n",
       "3         4              1100\n",
       "4         5              1000\n",
       "5         6               980\n",
       "6         7              1020\n",
       "7         8               990\n",
       "8         9               950\n",
       "9        10              1020"
      ]
     },
     "execution_count": 2,
     "metadata": {},
     "output_type": "execute_result"
    }
   ],
   "source": [
    "import pandas as pd\n",
    "import matplotlib.pyplot as plt\n",
    "\n",
    "# Create a DataFrame with the provided data\n",
    "data = {\n",
    "    'Motor ID': [1, 2, 3, 4, 5, 6, 7, 8, 9, 10],\n",
    "    'Lifespan (hours)': [980, 1050, 990, 1100, 1000, 980, 1020, 990, 950, 1020]\n",
    "}\n",
    "df = pd.DataFrame(data)\n",
    "df"
   ]
  },
  {
   "cell_type": "code",
   "execution_count": 3,
   "metadata": {},
   "outputs": [
    {
     "name": "stdout",
     "output_type": "stream",
     "text": [
      "The average lifespan of the batch of motors is: 1008.0 hours\n"
     ]
    }
   ],
   "source": [
    "# a. Calculate the average lifespan of the motors\n",
    "'''\n",
    "The mean is a measure of central tendency that provides an average value of a dataset, \n",
    "giving a quick sense of the middle point of the data distribution.\n",
    "'''\n",
    "\n",
    "average_lifespan = df['Lifespan (hours)'].mean()\n",
    "print(f\"The average lifespan of the batch of motors is: {average_lifespan} hours\")"
   ]
  },
  {
   "cell_type": "code",
   "execution_count": 9,
   "metadata": {},
   "outputs": [
    {
     "data": {
      "image/png": "[encoded data removed]",
      "text/plain": [
       "<Figure size 1000x600 with 1 Axes>"
      ]
     },
     "metadata": {},
     "output_type": "display_data"
    }
   ],
   "source": [
    "# b. Plot a histogram of motor lifespans\n",
    "plt.figure(figsize=(10, 6))\n",
    "plt.hist(df['Lifespan (hours)'], bins=5, alpha=0.7, color='blue', edgecolor='black')\n",
    "plt.title('Distribution of Motor Lifespans')\n",
    "plt.xlabel('Lifespan (hours)')\n",
    "plt.ylabel('Number of Motors')\n",
    "plt.grid(axis='y', alpha=0.75)\n",
    "plt.show()"
   ]
  },
  {
   "cell_type": "code",
   "execution_count": 11,
   "metadata": {},
   "outputs": [
    {
     "data": {
      "text/plain": [
       "5"
      ]
     },
     "execution_count": 11,
     "metadata": {},
     "output_type": "execute_result"
    }
   ],
   "source": [
    "# c. Count how many products have reached or exceeded the expected lifespan of 1000 hours.\n",
    "expected_lifespan = 1000\n",
    "count_exceeded_lifespan = df[df['Lifespan (hours)'] >= expected_lifespan].shape[0]\n",
    "\n",
    "count_exceeded_lifespan"
   ]
  },
  {
   "cell_type": "code",
   "execution_count": 12,
   "metadata": {},
   "outputs": [
    {
     "data": {
      "text/plain": [
       "42.37399621885521"
      ]
     },
     "execution_count": 12,
     "metadata": {},
     "output_type": "execute_result"
    }
   ],
   "source": [
    "# d. Calculate the standard deviation of the motor lifespans\n",
    "'''\n",
    "The significance of the standard deviation in this context is to provide insights into the \n",
    "reliability and quality control of the manufacturing process of these motors.\n",
    "'''\n",
    "\n",
    "std_deviation = df['Lifespan (hours)'].std()\n",
    "std_deviation"
   ]
  },
  {
   "cell_type": "code",
   "execution_count": 14,
   "metadata": {},
   "outputs": [
    {
     "data": {
      "text/plain": [
       "(0.917173445224762, 0.3339819610118866)"
      ]
     },
     "execution_count": 14,
     "metadata": {},
     "output_type": "execute_result"
    }
   ],
   "source": [
    "# e. Test if the lifespan follows a normal distribution using Shapiro-Wilk test\n",
    "from scipy.stats import shapiro\n",
    "\n",
    "stat, p_value = shapiro(df['Lifespan (hours)'])\n",
    "\n",
    "stat, p_value"
   ]
  },
  {
   "cell_type": "code",
   "execution_count": null,
   "metadata": {},
   "outputs": [],
   "source": [
    "'''\n",
    "The test statistic (stat) of 0.917 suggests some deviation from normality. \n",
    "However, the test statistic alone doesn't determine normality; instead, it is used in conjunction with the p-value.\n",
    "\n",
    "The p-value of 0.334 is greater than the common alpha level of 0.05, which means that we \n",
    "fail to reject the null hypothesis that the data is normally distributed. \n",
    "There is not enough evidence to say that the lifespans of the motors are not normally distributed.\n",
    "\n",
    "In layman's terms, the Shapiro-Wilk test result indicates that the lifespan data does not significantly \n",
    "deviate from what would be expected in a normal distribution. It is, therefore, reasonable to assume normality \n",
    "for the motor lifespans with the given sample size, although this might change with a larger sample or different data.\n",
    "'''"
   ]
  }
 ],
 "metadata": {
  "kernelspec": {
   "display_name": "Python 3",
   "language": "python",
   "name": "python3"
  },
  "language_info": {
   "codemirror_mode": {
    "name": "ipython",
    "version": 3
   },
   "file_extension": ".py",
   "mimetype": "text/x-python",
   "name": "python",
   "nbconvert_exporter": "python",
   "pygments_lexer": "ipython3",
   "version": "3.9.13"
  }
 },
 "nbformat": 4,
 "nbformat_minor": 2
}
