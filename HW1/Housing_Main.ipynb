{
 "cells": [
  {
   "cell_type": "markdown",
   "metadata": {},
   "source": [
    "# Handlinge the data processing with housing_data.ipynb"
   ]
  },
  {
   "cell_type": "code",
   "execution_count": 43,
   "metadata": {},
   "outputs": [],
   "source": [
    "import os\n",
    "import csv\n",
    "import numpy as np\n",
    "import pandas as pd\n",
    "from copy import deepcopy"
   ]
  },
  {
   "cell_type": "code",
   "execution_count": 61,
   "metadata": {},
   "outputs": [
    {
     "name": "stdout",
     "output_type": "stream",
     "text": [
      "['Area', 'No. of Rooms', 'No. of Bathrooms', 'Location', 'Miles (dist. between school and house)', 'Rent Price per Month', 'Sell Price']\n",
      "1000\n"
     ]
    },
    {
     "data": {
      "text/plain": [
       "[['1360', '1', '1', 'Rural', '463', '7401', '74446632'],\n",
       " ['1794', '3', '1', 'Suburb', '210', '9259', '76199794'],\n",
       " ['1630', '2', '1', 'Suburb', '157', '16469', '16249579'],\n",
       " ['1595', '1', '1', 'Suburb', '133', '18096', '24291317'],\n",
       " ['2138', '1', '1', 'Suburb', '10', '9923', '50273384']]"
      ]
     },
     "execution_count": 61,
     "metadata": {},
     "output_type": "execute_result"
    }
   ],
   "source": [
    "csv_file_path = './data/housing_data_raw.csv'\n",
    "ori_data = []\n",
    "\n",
    "with open(csv_file_path, mode='r', newline='') as file:\n",
    "    reader = csv.reader(file)\n",
    "    header = next(reader)  \n",
    "    for row in reader:\n",
    "        ori_data.append(row)\n",
    "\n",
    "df = pd.DataFrame(ori_data, columns=header)\n",
    "\n",
    "print(header)\n",
    "print(len(ori_data))\n",
    "ori_data[:5]"
   ]
  },
  {
   "cell_type": "code",
   "execution_count": 62,
   "metadata": {},
   "outputs": [
    {
     "data": {
      "text/html": [
       "<div>\n",
       "<style scoped>\n",
       "    .dataframe tbody tr th:only-of-type {\n",
       "        vertical-align: middle;\n",
       "    }\n",
       "\n",
       "    .dataframe tbody tr th {\n",
       "        vertical-align: top;\n",
       "    }\n",
       "\n",
       "    .dataframe thead th {\n",
       "        text-align: right;\n",
       "    }\n",
       "</style>\n",
       "<table border=\"1\" class=\"dataframe\">\n",
       "  <thead>\n",
       "    <tr style=\"text-align: right;\">\n",
       "      <th></th>\n",
       "      <th>Area</th>\n",
       "      <th>No. of Rooms</th>\n",
       "      <th>No. of Bathrooms</th>\n",
       "      <th>Location</th>\n",
       "      <th>Miles (dist. between school and house)</th>\n",
       "      <th>Rent Price per Month</th>\n",
       "      <th>Sell Price</th>\n",
       "      <th>Rental Yield (%)</th>\n",
       "    </tr>\n",
       "  </thead>\n",
       "  <tbody>\n",
       "    <tr>\n",
       "      <th>0</th>\n",
       "      <td>1360</td>\n",
       "      <td>1</td>\n",
       "      <td>1</td>\n",
       "      <td>Rural</td>\n",
       "      <td>463</td>\n",
       "      <td>7401.0</td>\n",
       "      <td>74446632.0</td>\n",
       "      <td>0.119296</td>\n",
       "    </tr>\n",
       "    <tr>\n",
       "      <th>1</th>\n",
       "      <td>1794</td>\n",
       "      <td>3</td>\n",
       "      <td>1</td>\n",
       "      <td>Suburb</td>\n",
       "      <td>210</td>\n",
       "      <td>9259.0</td>\n",
       "      <td>76199794.0</td>\n",
       "      <td>0.145811</td>\n",
       "    </tr>\n",
       "    <tr>\n",
       "      <th>2</th>\n",
       "      <td>1630</td>\n",
       "      <td>2</td>\n",
       "      <td>1</td>\n",
       "      <td>Suburb</td>\n",
       "      <td>157</td>\n",
       "      <td>16469.0</td>\n",
       "      <td>16249579.0</td>\n",
       "      <td>1.216204</td>\n",
       "    </tr>\n",
       "    <tr>\n",
       "      <th>3</th>\n",
       "      <td>1595</td>\n",
       "      <td>1</td>\n",
       "      <td>1</td>\n",
       "      <td>Suburb</td>\n",
       "      <td>133</td>\n",
       "      <td>18096.0</td>\n",
       "      <td>24291317.0</td>\n",
       "      <td>0.893949</td>\n",
       "    </tr>\n",
       "    <tr>\n",
       "      <th>4</th>\n",
       "      <td>2138</td>\n",
       "      <td>1</td>\n",
       "      <td>1</td>\n",
       "      <td>Suburb</td>\n",
       "      <td>10</td>\n",
       "      <td>9923.0</td>\n",
       "      <td>50273384.0</td>\n",
       "      <td>0.236857</td>\n",
       "    </tr>\n",
       "  </tbody>\n",
       "</table>\n",
       "</div>"
      ],
      "text/plain": [
       "   Area No. of Rooms No. of Bathrooms Location  \\\n",
       "0  1360            1                1    Rural   \n",
       "1  1794            3                1   Suburb   \n",
       "2  1630            2                1   Suburb   \n",
       "3  1595            1                1   Suburb   \n",
       "4  2138            1                1   Suburb   \n",
       "\n",
       "  Miles (dist. between school and house)  Rent Price per Month  Sell Price  \\\n",
       "0                                    463                7401.0  74446632.0   \n",
       "1                                    210                9259.0  76199794.0   \n",
       "2                                    157               16469.0  16249579.0   \n",
       "3                                    133               18096.0  24291317.0   \n",
       "4                                     10                9923.0  50273384.0   \n",
       "\n",
       "   Rental Yield (%)  \n",
       "0          0.119296  \n",
       "1          0.145811  \n",
       "2          1.216204  \n",
       "3          0.893949  \n",
       "4          0.236857  "
      ]
     },
     "execution_count": 62,
     "metadata": {},
     "output_type": "execute_result"
    }
   ],
   "source": [
    "df['Rent Price per Month'] = df['Rent Price per Month'].astype(float)\n",
    "df['Sell Price'] = df['Sell Price'].astype(float)\n",
    "\n",
    "# Calculate the 'Rental Yield' and add it as a new column\n",
    "# This is provided by: https://rich01.com/rental-yield-calculation/ \n",
    "df['Rental Yield (%)'] = ((df['Rent Price per Month']*12) / df['Sell Price']) * 100\n",
    "\n",
    "df.head(5)"
   ]
  },
  {
   "cell_type": "code",
   "execution_count": 55,
   "metadata": {},
   "outputs": [
    {
     "name": "stdout",
     "output_type": "stream",
     "text": [
      "Average Sell Prices by Location:\n",
      " Location\n",
      "City Center    4.189646e+07\n",
      "Rural          4.065140e+07\n",
      "Suburb         4.359140e+07\n",
      "Name: Sell Price, dtype: float64\n",
      "\n",
      "Average Rent Prices by Location:\n",
      " Location\n",
      "City Center    13272.215909\n",
      "Rural          13086.807692\n",
      "Suburb         13031.619048\n",
      "Name: Rent Price per Month, dtype: float64\n",
      "\n",
      "Average Rental Yield by Location:\n",
      " Location\n",
      "City Center    0.049104\n",
      "Rural          0.052048\n",
      "Suburb         0.046444\n",
      "Name: Rental Yield (%), dtype: float64\n"
     ]
    }
   ],
   "source": [
    "# 地點分析 - 計算不同地點的平均售價和平均租金\n",
    "average_prices_by_location = df.groupby('Location')['Sell Price'].mean()\n",
    "average_rent_by_location = df.groupby('Location')['Rent Price per Month'].mean()\n",
    "\n",
    "# 分析不同地點的租售比\n",
    "rental_yield_by_location = df.groupby('Location')['Rental Yield (%)'].mean()\n",
    "\n",
    "print(\"Average Sell Prices by Location:\\n\", average_prices_by_location)\n",
    "print(\"\\nAverage Rent Prices by Location:\\n\", average_rent_by_location)\n",
    "print(\"\\nAverage Rental Yield by Location:\\n\", rental_yield_by_location)\n"
   ]
  },
  {
   "cell_type": "code",
   "execution_count": 64,
   "metadata": {},
   "outputs": [
    {
     "name": "stdout",
     "output_type": "stream",
     "text": [
      "Coefficients for No. of Rooms, No. of Bathrooms, Area:\n",
      " [9.53418758e+05 0.00000000e+00 5.62911506e+02]\n"
     ]
    }
   ],
   "source": [
    "# 使用線性回歸分析房間數量和浴室數量與售價之間的關係\n",
    "from sklearn.linear_model import LinearRegression\n",
    "\n",
    "# 設定自變量X和因變量y\n",
    "X = df[['No. of Rooms', 'No. of Bathrooms', 'Area']]\n",
    "y = df['Sell Price']\n",
    "\n",
    "# 建立線性回歸模型\n",
    "model = LinearRegression()\n",
    "model.fit(X, y)\n",
    "\n",
    "print(\"Coefficients for No. of Rooms, No. of Bathrooms, Area:\\n\", model.coef_)\n"
   ]
  },
  {
   "cell_type": "code",
   "execution_count": 72,
   "metadata": {},
   "outputs": [],
   "source": [
    "# Convert numerical columns from strings to floats using `pd.to_numeric()`\n",
    "df['Rent Price per Month'] = pd.to_numeric(df['Rent Price per Month'], errors='coerce')\n",
    "df['Sell Price'] = pd.to_numeric(df['Sell Price'], errors='coerce')\n",
    "df['Miles (dist. between school and house)'] = pd.to_numeric(df['Miles (dist. between school and house)'], errors='coerce')\n",
    "# Drop rows with NaN values that resulted from conversion errors\n",
    "df = df.dropna(subset=['Rent Price per Month', 'Sell Price', 'Miles (dist. between school and house)'])\n",
    "\n"
   ]
  },
  {
   "cell_type": "code",
   "execution_count": 73,
   "metadata": {},
   "outputs": [
    {
     "name": "stdout",
     "output_type": "stream",
     "text": [
      "Correlation between Distance and Sell Price:  0.08143404772457158\n"
     ]
    }
   ],
   "source": [
    "# 計算距離與售價之間的相關係數\n",
    "correlation_distance_sell = df['Miles (dist. between school and house)'].corr(df['Sell Price'])\n",
    "print(\"Correlation between Distance and Sell Price: \", correlation_distance_sell)\n"
   ]
  },
  {
   "cell_type": "code",
   "execution_count": 66,
   "metadata": {},
   "outputs": [
    {
     "data": {
      "image/png": "[encoded data removed]",
      "text/plain": [
       "<Figure size 1200x500 with 2 Axes>"
      ]
     },
     "metadata": {},
     "output_type": "display_data"
    }
   ],
   "source": [
    "import matplotlib.pyplot as plt\n",
    "\n",
    "# 繪製租金和售價的直方圖\n",
    "plt.figure(figsize=(12, 5))\n",
    "\n",
    "plt.subplot(1, 2, 1)\n",
    "plt.hist(df['Sell Price'], bins=20, color='blue', edgecolor='black')\n",
    "plt.title('Distribution of Sell Prices')\n",
    "plt.xlabel('Sell Price')\n",
    "plt.ylabel('Frequency')\n",
    "\n",
    "plt.subplot(1, 2, 2)\n",
    "plt.hist(df['Rent Price per Month'], bins=20, color='green', edgecolor='black')\n",
    "plt.title('Distribution of Rent Prices')\n",
    "plt.xlabel('Rent Price per Month')\n",
    "plt.ylabel('Frequency')\n",
    "\n",
    "plt.tight_layout()\n",
    "plt.show()\n"
   ]
  },
  {
   "cell_type": "code",
   "execution_count": 69,
   "metadata": {},
   "outputs": [
    {
     "data": {
      "text/plain": [
       "0     1.431554\n",
       "1     1.749737\n",
       "2    14.594446\n",
       "3    10.727389\n",
       "4     2.842283\n",
       "5    19.859387\n",
       "6     2.036451\n",
       "7     4.772563\n",
       "8     6.337797\n",
       "9     4.437408\n",
       "Name: Annual ROI (%), dtype: float64"
      ]
     },
     "execution_count": 69,
     "metadata": {},
     "output_type": "execute_result"
    }
   ],
   "source": [
    "# 計算年投資回報率，假設租金為穩定收入\n",
    "df['Annual ROI (%)'] = df['Rental Yield (%)'] * 12\n",
    "df['Annual ROI (%)'].head(10)"
   ]
  },
  {
   "cell_type": "code",
   "execution_count": null,
   "metadata": {},
   "outputs": [],
   "source": []
  },
  {
   "cell_type": "code",
   "execution_count": null,
   "metadata": {},
   "outputs": [],
   "source": []
  },
  {
   "cell_type": "code",
   "execution_count": null,
   "metadata": {},
   "outputs": [],
   "source": []
  },
  {
   "cell_type": "code",
   "execution_count": null,
   "metadata": {},
   "outputs": [],
   "source": []
  },
  {
   "cell_type": "code",
   "execution_count": null,
   "metadata": {},
   "outputs": [
    {
     "name": "stdout",
     "output_type": "stream",
     "text": [
      "['1360', '1', '1', 'Rural', '463', '7401', '74446632']\n",
      "Rent Price per Month\n"
     ]
    },
    {
     "data": {
      "text/plain": [
       "[['1360', '1', '1', 'Rural', '463', '7401', '74446632', 0.009941349663743014]]"
      ]
     },
     "metadata": {},
     "output_type": "display_data"
    }
   ],
   "source": [
    "header = ['Area', 'No. of Rooms', 'No. of Bathrooms', 'Location', 'Miles (dist. between school and house)', 'Rent Price per Month', 'Sell Price']\n",
    "header.append('Rental Yield')\n",
    "data = deepcopy(ori_data)\n",
    "# print(data[:2])\n",
    "updated_data = []\n",
    "\n",
    "for row in data:\n",
    "    print(row)\n",
    "    rent_price = float(row[5])\n",
    "    sell_price = float(row[6])\n",
    "    rental_rate = (rent_price / sell_price) * 100  # 转换为百分比\n",
    "    row.append(rental_rate)\n",
    "    updated_data.append(row)\n",
    "    break\n",
    "\n",
    "print(header[5])\n",
    "updated_data[:2]"
   ]
  }
 ],
 "metadata": {
  "kernelspec": {
   "display_name": "Python 3",
   "language": "python",
   "name": "python3"
  },
  "language_info": {
   "codemirror_mode": {
    "name": "ipython",
    "version": 3
   },
   "file_extension": ".py",
   "mimetype": "text/x-python",
   "name": "python",
   "nbconvert_exporter": "python",
   "pygments_lexer": "ipython3",
   "version": "3.11.1"
  }
 },
 "nbformat": 4,
 "nbformat_minor": 2
}
