{
 "cells": [
  {
   "cell_type": "code",
   "execution_count": 1,
   "metadata": {},
   "outputs": [],
   "source": [
    "import numpy as np\n",
    "import matplotlib.pyplot as plt\n",
    "from sklearn.metrics import accuracy_score\n",
    "from sklearn.model_selection import train_test_split # randomly split data to training and testing data"
   ]
  },
  {
   "cell_type": "code",
   "execution_count": 2,
   "metadata": {},
   "outputs": [
    {
     "name": "stdout",
     "output_type": "stream",
     "text": [
      "clf.score =  1.0\n",
      "AC =  1.0\n"
     ]
    }
   ],
   "source": [
    "from sklearn import tree\n",
    "from sklearn.datasets import load_iris\n",
    "\n",
    "iris = load_iris()\n",
    "X = iris.data\n",
    "y = iris.target\n",
    "clf = tree.DecisionTreeClassifier()\n",
    "clf.fit(X,y)\n",
    "\n",
    "y_pred = clf.predict(X)\n",
    "print(\"clf.score = \", clf.score(X, y))\n",
    "print(\"AC = \", accuracy_score(y_pred, y))"
   ]
  },
  {
   "cell_type": "code",
   "execution_count": 3,
   "metadata": {},
   "outputs": [
    {
     "data": {
      "text/plain": [
       "{'ccp_alpha': 0.0,\n",
       " 'class_weight': None,\n",
       " 'criterion': 'gini',\n",
       " 'max_depth': None,\n",
       " 'max_features': None,\n",
       " 'max_leaf_nodes': None,\n",
       " 'min_impurity_decrease': 0.0,\n",
       " 'min_impurity_split': None,\n",
       " 'min_samples_leaf': 1,\n",
       " 'min_samples_split': 2,\n",
       " 'min_weight_fraction_leaf': 0.0,\n",
       " 'random_state': None,\n",
       " 'splitter': 'best'}"
      ]
     },
     "execution_count": 3,
     "metadata": {},
     "output_type": "execute_result"
    }
   ],
   "source": [
    "clf.get_params()"
   ]
  },
  {
   "cell_type": "code",
   "execution_count": 4,
   "metadata": {},
   "outputs": [
    {
     "data": {
      "text/plain": [
       "5"
      ]
     },
     "execution_count": 4,
     "metadata": {},
     "output_type": "execute_result"
    }
   ],
   "source": [
    "clf.get_depth()"
   ]
  },
  {
   "cell_type": "code",
   "execution_count": 5,
   "metadata": {},
   "outputs": [
    {
     "name": "stdout",
     "output_type": "stream",
     "text": [
      "Train clf.score =  1.0\n",
      "Train AC =  1.0\n",
      "\n",
      "Test clf.score =  0.7333333333333333\n",
      "Test AC =  0.7333333333333333\n"
     ]
    }
   ],
   "source": [
    "# Decision Tree (Split data by order 80% vs. 20%, sequential)\n",
    "from sklearn import tree\n",
    "from sklearn.datasets import load_iris\n",
    "iris = load_iris()\n",
    "X = iris.data\n",
    "y = iris.target\n",
    "\n",
    "# slicing\n",
    "position = int(len(X) * 80 / 100)\n",
    "\n",
    "X_train = X[:position]\n",
    "y_train = y[:position]\n",
    "\n",
    "X_test = X[position:]\n",
    "y_test = y[position:]\n",
    "\n",
    "clf = tree.DecisionTreeClassifier()\n",
    "\n",
    "clf.fit(X_train, y_train)\n",
    "\n",
    "y_pred = clf.predict(X_train)\n",
    "print(\"Train clf.score = \", clf.score(X_train, y_train))\n",
    "print(\"Train AC = \", accuracy_score(y_pred, y_train))\n",
    "print()\n",
    "\n",
    "y_pred = clf.predict(X_test)\n",
    "print(\"Test clf.score = \", clf.score(X_test, y_test))\n",
    "print(\"Test AC = \", accuracy_score(y_pred, y_test))"
   ]
  },
  {
   "cell_type": "code",
   "execution_count": 6,
   "metadata": {},
   "outputs": [
    {
     "name": "stdout",
     "output_type": "stream",
     "text": [
      ">90, train: 1.000, test: 1.000\n",
      ">80, train: 1.000, test: 0.733\n",
      ">70, train: 1.000, test: 0.733\n",
      ">60, train: 1.000, test: 0.167\n",
      ">50, train: 1.000, test: 0.333\n",
      ">40, train: 1.000, test: 0.444\n",
      ">30, train: 1.000, test: 0.048\n",
      ">20, train: 1.000, test: 0.167\n",
      ">10, train: 1.000, test: 0.259\n"
     ]
    },
    {
     "data": {
      "image/png": "[encoded data removed]",
      "text/plain": [
       "<Figure size 432x288 with 1 Axes>"
      ]
     },
     "metadata": {
      "needs_background": "light"
     },
     "output_type": "display_data"
    }
   ],
   "source": [
    "# Decision Tree (Split data by order from 90~10%)\n",
    "from sklearn import tree\n",
    "from sklearn.datasets import load_iris\n",
    "iris = load_iris()\n",
    "X = iris.data\n",
    "y = iris.target\n",
    "\n",
    "ratio = 90\n",
    "ratiovalues = [i for i in range(ratio, 0, -10)]\n",
    "train_scores = []\n",
    "test_scores = []\n",
    "\n",
    "for i in ratiovalues:\n",
    "    position = int(len(X) * i / 100)\n",
    "\n",
    "    X_train = X[:position]\n",
    "    y_train = y[:position]\n",
    "\n",
    "    X_test = X[position:]\n",
    "    y_test = y[position:]\n",
    "\n",
    "    clf = tree.DecisionTreeClassifier()\n",
    "    clf.fit(X_train, y_train)\n",
    "    y_pred_train = clf.predict(X_train)\n",
    "    train_acc = accuracy_score(y_pred_train, y_train)\n",
    "    train_scores.append(train_acc)\n",
    "    \n",
    "    y_pred_test = clf.predict(X_test)\n",
    "    test_acc = accuracy_score(y_pred_test, y_test)\n",
    "    test_scores.append(test_acc)\n",
    "    \n",
    "    print('>%d, train: %.3f, test: %.3f' % (i, train_acc, test_acc))\n",
    "\n",
    "plt.plot(ratiovalues, train_scores, '-o', label='Train')\n",
    "plt.plot(ratiovalues, test_scores, '-o', label='Test')\n",
    "plt.legend()\n",
    "plt.show()"
   ]
  },
  {
   "cell_type": "markdown",
   "metadata": {},
   "source": [
    "# What's wrong with the above division?"
   ]
  },
  {
   "cell_type": "code",
   "execution_count": 7,
   "metadata": {},
   "outputs": [
    {
     "name": "stdout",
     "output_type": "stream",
     "text": [
      "Train clf.score =  1.0\n",
      "Train AC =  1.0\n",
      "\n",
      "Test clf.score =  0.9333333333333333\n",
      "Test AC =  0.9333333333333333\n"
     ]
    }
   ],
   "source": [
    "# Decision Tree (Split data randomly 80% vs. 20%)\n",
    "from sklearn import tree\n",
    "from sklearn.datasets import load_iris\n",
    "iris = load_iris()\n",
    "X = iris.data\n",
    "y = iris.target\n",
    "\n",
    "X_train, X_test, y_train, y_test = \\\n",
    "train_test_split(X, y, test_size = 0.2, random_state=71) #train_size = 0.8\n",
    "\n",
    "clf = tree.DecisionTreeClassifier()\n",
    "\n",
    "clf.fit(X_train, y_train)\n",
    "\n",
    "y_pred = clf.predict(X_train)\n",
    "print(\"Train clf.score = \", clf.score(X_train, y_train))\n",
    "print(\"Train AC = \", accuracy_score(y_pred, y_train))\n",
    "print()\n",
    "\n",
    "y_pred = clf.predict(X_test)\n",
    "print(\"Test clf.score = \", clf.score(X_test, y_test))\n",
    "print(\"Test AC = \", accuracy_score(y_pred, y_test))"
   ]
  },
  {
   "cell_type": "code",
   "execution_count": 8,
   "metadata": {},
   "outputs": [
    {
     "name": "stdout",
     "output_type": "stream",
     "text": [
      ">10, train: 1.000, test: 0.933\n",
      ">20, train: 1.000, test: 0.933\n",
      ">30, train: 1.000, test: 0.911\n",
      ">40, train: 1.000, test: 0.933\n",
      ">50, train: 1.000, test: 0.933\n",
      ">60, train: 1.000, test: 0.933\n",
      ">70, train: 1.000, test: 0.933\n",
      ">80, train: 1.000, test: 0.942\n",
      ">90, train: 1.000, test: 0.948\n"
     ]
    },
    {
     "data": {
      "image/png": "[encoded data removed]",
      "text/plain": [
       "<Figure size 432x288 with 1 Axes>"
      ]
     },
     "metadata": {
      "needs_background": "light"
     },
     "output_type": "display_data"
    }
   ],
   "source": [
    "# Decision Tree (Split data randomly from 90~10%)\n",
    "from sklearn import tree\n",
    "from sklearn.datasets import load_iris\n",
    "iris = load_iris()\n",
    "X = iris.data\n",
    "y = iris.target\n",
    "\n",
    "ratio = 100\n",
    "ratiovalues = [i for i in range(10, ratio, 10)]\n",
    "train_scores = []\n",
    "test_scores = []\n",
    "\n",
    "for i in ratiovalues:\n",
    "    X_train, X_test, y_train, y_test = train_test_split(X, y, test_size = i/100, random_state=71)\n",
    "\n",
    "    clf = tree.DecisionTreeClassifier(random_state = 2023)\n",
    "    clf.fit(X_train, y_train)\n",
    "    y_pred_train = clf.predict(X_train)\n",
    "    train_acc = accuracy_score(y_pred_train, y_train)\n",
    "    train_scores.append(train_acc)\n",
    "    \n",
    "    y_pred_test = clf.predict(X_test)\n",
    "    test_acc = accuracy_score(y_pred_test, y_test)\n",
    "    test_scores.append(test_acc)\n",
    "    \n",
    "    print('>%d, train: %.3f, test: %.3f' % (i, train_acc, test_acc))\n",
    "\n",
    "plt.plot(ratiovalues, train_scores, '-o', label='Train')\n",
    "plt.plot(ratiovalues, test_scores, '-o', label='Test')\n",
    "plt.legend()\n",
    "plt.show()"
   ]
  },
  {
   "cell_type": "markdown",
   "metadata": {},
   "source": [
    "# From the figure above, which ratio do you think is the best?"
   ]
  },
  {
   "cell_type": "markdown",
   "metadata": {},
   "source": [
    "# Which situation do you think sequential splitting and random splitting are respectively suitable for?"
   ]
  },
  {
   "cell_type": "markdown",
   "metadata": {},
   "source": [
    "# Please try to change DT to other 7 classification models for practice"
   ]
  }
 ],
 "metadata": {
  "kernelspec": {
   "display_name": "Python 3",
   "language": "python",
   "name": "python3"
  },
  "language_info": {
   "codemirror_mode": {
    "name": "ipython",
    "version": 3
   },
   "file_extension": ".py",
   "mimetype": "text/x-python",
   "name": "python",
   "nbconvert_exporter": "python",
   "pygments_lexer": "ipython3",
   "version": "3.7.6"
  }
 },
 "nbformat": 4,
 "nbformat_minor": 4
}
