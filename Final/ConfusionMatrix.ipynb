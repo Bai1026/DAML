{
 "cells": [
  {
   "cell_type": "code",
   "execution_count": 1,
   "metadata": {},
   "outputs": [
    {
     "name": "stdout",
     "output_type": "stream",
     "text": [
      "[[ 2.028469    2.15493057]\n",
      " [ 1.8780991   1.89551051]\n",
      " [ 1.95928819  2.03967316]\n",
      " [ 1.85540524  1.91847306]\n",
      " [ 2.02033884  1.9013754 ]\n",
      " [ 2.02265244  1.45002601]\n",
      " [ 1.82178321  2.18947778]\n",
      " [ 1.99022704  2.30770407]\n",
      " [ 1.77151441  1.345716  ]\n",
      " [ 1.96204707  1.07387437]\n",
      " [ 2.17456965  1.69211449]\n",
      " [ 1.82798737  1.84806927]\n",
      " [ 1.89189141  1.87699465]\n",
      " [ 1.90394545  1.35413361]\n",
      " [ 1.94459507  2.12641981]\n",
      " [ 1.9317172   1.78344054]\n",
      " [-1.96853969  2.27991386]\n",
      " [-2.09230828  1.92686981]\n",
      " [ 1.96382943  1.38678485]\n",
      " [ 2.29201903  2.36777271]\n",
      " [ 1.88204891  1.88077129]\n",
      " [ 2.32970299  2.58463774]\n",
      " [ 1.86500087  2.28655987]\n",
      " [ 2.01313574  2.16777676]\n",
      " [ 2.22382712  2.98519313]\n",
      " [ 2.03332877  2.41783017]\n",
      " [ 1.96435056  2.77547698]\n",
      " [ 2.02600767  1.87226739]\n",
      " [ 2.10863359  2.16755486]\n",
      " [ 2.12550154  2.08060284]\n",
      " [ 2.1529768   2.44764661]\n",
      " [-2.278618    1.98379959]\n",
      " [ 2.03607875  2.06828   ]\n",
      " [ 1.91588404  1.79032389]\n",
      " [ 2.13872896  1.85729649]\n",
      " [-2.01366961  1.47330777]\n",
      " [ 1.84917607  2.36586461]\n",
      " [ 2.03436581  3.07582971]\n",
      " [ 2.24328724  2.07258847]\n",
      " [ 1.84146721  1.89891716]\n",
      " [-2.47533915  1.86146256]\n",
      " [-2.23912256  1.94781411]\n",
      " [ 2.06821044  1.77370361]\n",
      " [ 1.90852604  1.96703727]\n",
      " [ 2.46478942  2.46819241]\n",
      " [ 2.0576549   1.97139534]\n",
      " [-1.87353582  1.87122579]\n",
      " [ 1.85447515  1.99786115]\n",
      " [ 1.99854519  1.68188934]\n",
      " [ 1.78077368  2.1198491 ]\n",
      " [ 2.14068991  2.17437024]\n",
      " [ 2.23187251  1.62567337]\n",
      " [ 2.03648003  1.96026307]\n",
      " [ 1.90275614  1.56646211]\n",
      " [ 1.50782575  1.83916143]\n",
      " [ 2.32551412  2.838294  ]\n",
      " [ 1.88239331  1.70017571]\n",
      " [ 2.03345052  2.46893146]\n",
      " [ 2.03464255  1.98146586]\n",
      " [ 1.81687975  2.28663465]\n",
      " [ 2.033341    2.18559003]\n",
      " [ 2.08480038  2.64661853]\n",
      " [ 1.9129089   2.26291744]\n",
      " [ 2.17718111  2.1437713 ]\n",
      " [ 1.78655651  1.77528533]\n",
      " [-2.85064099  1.89562312]\n",
      " [ 1.81405135  1.88883881]\n",
      " [ 1.93640333  1.6236295 ]\n",
      " [ 2.21828168  1.96457205]\n",
      " [ 2.06910181  1.49138963]\n",
      " [ 2.15080755  2.02242019]\n",
      " [ 1.82550695  1.55853873]\n",
      " [ 1.96548233  2.18468624]\n",
      " [ 2.09735729  2.47783483]\n",
      " [ 2.19843216  2.2705125 ]\n",
      " [-2.44189096  2.09488485]\n",
      " [ 1.70455707  2.39198128]\n",
      " [ 2.22865258  2.05846556]\n",
      " [ 1.79593742  2.92224609]\n",
      " [ 1.98250751  2.21034713]\n",
      " [ 2.10018476  1.98042741]\n",
      " [ 1.60660431  1.56998385]\n",
      " [ 2.00277655  2.24549398]\n",
      " [ 1.92043071  2.52254151]\n",
      " [ 1.77978624  2.47626771]\n",
      " [ 1.97450042  2.17437625]\n",
      " [ 1.61771419  2.02817479]\n",
      " [ 2.07736344  1.58606321]\n",
      " [ 2.19963968  2.42916785]\n",
      " [ 2.12302683  3.19544538]\n",
      " [ 2.17353145  2.14809657]\n",
      " [ 1.92341614  2.1483843 ]\n",
      " [ 2.06796368  1.5630779 ]\n",
      " [ 2.17899425  2.17867274]\n",
      " [ 1.52396447  1.9712547 ]\n",
      " [ 1.75148062  2.06702918]\n",
      " [-2.36419132  2.21619061]\n",
      " [ 2.07018105  2.49169864]\n",
      " [ 1.85063796  1.44689516]\n",
      " [ 2.07869442  1.45666106]]\n",
      "[0 0 0 0 0 0 0 0 0 0 0 0 0 0 0 0 1 1 0 0 0 0 0 0 0 0 0 0 0 0 0 1 0 0 0 1 0\n",
      " 0 0 0 1 1 0 0 0 0 1 0 0 0 0 0 0 0 0 0 0 0 0 0 0 0 0 0 0 1 0 0 0 0 0 0 0 0\n",
      " 0 1 0 0 0 0 0 0 0 0 0 0 0 0 0 0 0 0 0 0 0 0 1 0 0 0]\n",
      "Counter({0: 90, 1: 10})\n"
     ]
    }
   ],
   "source": [
    "# Generate an imbalanced dataset with 100 nodes\n",
    "from sklearn.datasets import make_classification\n",
    "import matplotlib.pyplot as plt\n",
    "import seaborn as sns\n",
    "import numpy as np\n",
    "from collections import Counter\n",
    "\n",
    "X, y = make_classification(n_classes = 2, class_sep = 2,\n",
    "                           weights = [0.9, 0.1], n_informative = 2,\n",
    "                           n_redundant = 0, flip_y = 0,\n",
    "                           n_features = 2, n_clusters_per_class = 1,\n",
    "                           n_samples = 100, random_state =1)\n",
    "print(X)\n",
    "print(y)\n",
    "print(Counter(y))"
   ]
  },
  {
   "cell_type": "code",
   "execution_count": 2,
   "metadata": {},
   "outputs": [
    {
     "data": {
      "image/png": "[encoded data removed]",
      "text/plain": [
       "<Figure size 432x288 with 1 Axes>"
      ]
     },
     "metadata": {
      "needs_background": "light"
     },
     "output_type": "display_data"
    }
   ],
   "source": [
    "plt.figure()\n",
    "sns.scatterplot(X[:,0], X[:,1], hue = y)\n",
    "plt.show()"
   ]
  },
  {
   "cell_type": "code",
   "execution_count": 3,
   "metadata": {},
   "outputs": [
    {
     "data": {
      "text/plain": [
       "array([[90,  0],\n",
       "       [ 0, 10]], dtype=int64)"
      ]
     },
     "execution_count": 3,
     "metadata": {},
     "output_type": "execute_result"
    }
   ],
   "source": [
    "from sklearn import tree\n",
    "from sklearn.metrics import confusion_matrix\n",
    "\n",
    "clf = tree.DecisionTreeClassifier()\n",
    "clf.fit(X,y)\n",
    "y_pred = clf.predict(X)\n",
    "conf_matrix = confusion_matrix(y, y_pred)\n",
    "conf_matrix"
   ]
  },
  {
   "cell_type": "code",
   "execution_count": 4,
   "metadata": {},
   "outputs": [
    {
     "data": {
      "image/png": "[encoded data removed]",
      "text/plain": [
       "<Figure size 360x360 with 1 Axes>"
      ]
     },
     "metadata": {
      "needs_background": "light"
     },
     "output_type": "display_data"
    }
   ],
   "source": [
    "# Print the confusion matrix using Matplotlib\n",
    "fig, ax = plt.subplots(figsize=(5, 5))\n",
    "ax.matshow(conf_matrix, cmap=plt.cm.Oranges, alpha=0.9)\n",
    "for i in range(conf_matrix.shape[0]):\n",
    "    for j in range(conf_matrix.shape[1]):\n",
    "        ax.text(x=j, y=i,s=conf_matrix[i, j], va='center', ha='center', size='xx-large')\n",
    "\n",
    "plt.xlabel('Predictions', fontsize=18)\n",
    "plt.ylabel('Actuals', fontsize=18)\n",
    "plt.title('Confusion Matrix', fontsize=18)\n",
    "plt.show()"
   ]
  },
  {
   "cell_type": "code",
   "execution_count": 5,
   "metadata": {},
   "outputs": [
    {
     "data": {
      "text/plain": [
       "(array([1., 1.]),\n",
       " array([1., 1.]),\n",
       " array([1., 1.]),\n",
       " array([90, 10], dtype=int64))"
      ]
     },
     "execution_count": 5,
     "metadata": {},
     "output_type": "execute_result"
    }
   ],
   "source": [
    "from sklearn.metrics import precision_recall_fscore_support\n",
    "\n",
    "precision_recall_fscore_support(y, y_pred)"
   ]
  },
  {
   "cell_type": "code",
   "execution_count": 6,
   "metadata": {},
   "outputs": [
    {
     "name": "stdout",
     "output_type": "stream",
     "text": [
      "              precision    recall  f1-score   support\n",
      "\n",
      "           0       1.00      1.00      1.00        90\n",
      "           1       1.00      1.00      1.00        10\n",
      "\n",
      "    accuracy                           1.00       100\n",
      "   macro avg       1.00      1.00      1.00       100\n",
      "weighted avg       1.00      1.00      1.00       100\n",
      "\n"
     ]
    }
   ],
   "source": [
    "from sklearn.metrics import precision_score\n",
    "from sklearn.metrics import recall_score\n",
    "from sklearn.metrics import f1_score\n",
    "\n",
    "from sklearn.metrics import classification_report # combination of above\n",
    "print(classification_report(y, y_pred))"
   ]
  },
  {
   "cell_type": "markdown",
   "metadata": {},
   "source": [
    "# Lets do it again with Iris dataset"
   ]
  },
  {
   "cell_type": "code",
   "execution_count": 7,
   "metadata": {},
   "outputs": [],
   "source": [
    "import numpy as np\n",
    "import matplotlib.pyplot as plt\n",
    "from sklearn.metrics import accuracy_score\n",
    "from sklearn.model_selection import train_test_split # randomly split data to training and testing data\n",
    "from sklearn.metrics import confusion_matrix\n",
    "from sklearn.metrics import classification_report"
   ]
  },
  {
   "cell_type": "code",
   "execution_count": 8,
   "metadata": {},
   "outputs": [
    {
     "name": "stdout",
     "output_type": "stream",
     "text": [
      "clf.score =  1.0\n",
      "AC =  1.0\n"
     ]
    }
   ],
   "source": [
    "from sklearn import tree\n",
    "from sklearn.datasets import load_iris\n",
    "\n",
    "iris = load_iris()\n",
    "X = iris.data\n",
    "y = iris.target\n",
    "clf = tree.DecisionTreeClassifier()\n",
    "clf.fit(X,y)\n",
    "\n",
    "y_pred = clf.predict(X)\n",
    "print(\"clf.score = \", clf.score(X, y))\n",
    "print(\"AC = \", accuracy_score(y_pred, y))"
   ]
  },
  {
   "cell_type": "code",
   "execution_count": 9,
   "metadata": {},
   "outputs": [
    {
     "data": {
      "text/plain": [
       "array([[50,  0,  0],\n",
       "       [ 0, 50,  0],\n",
       "       [ 0,  0, 50]], dtype=int64)"
      ]
     },
     "execution_count": 9,
     "metadata": {},
     "output_type": "execute_result"
    }
   ],
   "source": [
    "conf_matrix = confusion_matrix(y, y_pred)\n",
    "conf_matrix"
   ]
  },
  {
   "cell_type": "code",
   "execution_count": 10,
   "metadata": {},
   "outputs": [
    {
     "data": {
      "image/png": "[encoded data removed]",
      "text/plain": [
       "<Figure size 360x360 with 1 Axes>"
      ]
     },
     "metadata": {
      "needs_background": "light"
     },
     "output_type": "display_data"
    }
   ],
   "source": [
    "fig, ax = plt.subplots(figsize=(5, 5))\n",
    "ax.matshow(conf_matrix, cmap=plt.cm.Oranges, alpha=0.9)\n",
    "for i in range(conf_matrix.shape[0]):\n",
    "    for j in range(conf_matrix.shape[1]):\n",
    "        ax.text(x=j, y=i,s=conf_matrix[i, j], va='center', ha='center', size='xx-large')\n",
    "\n",
    "plt.xlabel('Predictions', fontsize=18)\n",
    "plt.ylabel('Actuals', fontsize=18)\n",
    "plt.title('Confusion Matrix', fontsize=18)\n",
    "plt.show()"
   ]
  },
  {
   "cell_type": "code",
   "execution_count": 11,
   "metadata": {},
   "outputs": [
    {
     "name": "stdout",
     "output_type": "stream",
     "text": [
      "              precision    recall  f1-score   support\n",
      "\n",
      "           0       1.00      1.00      1.00        50\n",
      "           1       1.00      1.00      1.00        50\n",
      "           2       1.00      1.00      1.00        50\n",
      "\n",
      "    accuracy                           1.00       150\n",
      "   macro avg       1.00      1.00      1.00       150\n",
      "weighted avg       1.00      1.00      1.00       150\n",
      "\n"
     ]
    }
   ],
   "source": [
    "print(classification_report(y, y_pred))"
   ]
  },
  {
   "cell_type": "code",
   "execution_count": 12,
   "metadata": {},
   "outputs": [
    {
     "name": "stdout",
     "output_type": "stream",
     "text": [
      "Train clf.score =  1.0\n",
      "Train AC =  1.0\n",
      "\n",
      "Test clf.score =  0.9333333333333333\n",
      "Test AC =  0.9333333333333333\n"
     ]
    }
   ],
   "source": [
    "# Decision Tree (Split data randomly 80% vs. 20%)\n",
    "from sklearn import tree\n",
    "from sklearn.datasets import load_iris\n",
    "iris = load_iris()\n",
    "X = iris.data\n",
    "y = iris.target\n",
    "\n",
    "X_train, X_test, y_train, y_test = \\\n",
    "train_test_split(X, y, test_size = 0.2, random_state=71) #train_size = 0.8\n",
    "\n",
    "clf = tree.DecisionTreeClassifier()\n",
    "\n",
    "clf.fit(X_train, y_train)\n",
    "\n",
    "y_train_pred = clf.predict(X_train)\n",
    "print(\"Train clf.score = \", clf.score(X_train, y_train))\n",
    "print(\"Train AC = \", accuracy_score(y_train_pred, y_train))\n",
    "print()\n",
    "\n",
    "y_test_pred = clf.predict(X_test)\n",
    "print(\"Test clf.score = \", clf.score(X_test, y_test))\n",
    "print(\"Test AC = \", accuracy_score(y_test_pred, y_test))"
   ]
  },
  {
   "cell_type": "code",
   "execution_count": 13,
   "metadata": {},
   "outputs": [
    {
     "data": {
      "image/png": "[encoded data removed]",
      "text/plain": [
       "<Figure size 360x360 with 1 Axes>"
      ]
     },
     "metadata": {
      "needs_background": "light"
     },
     "output_type": "display_data"
    }
   ],
   "source": [
    "# for training data\n",
    "conf_matrix = confusion_matrix(y_train_pred, y_train)\n",
    "fig, ax = plt.subplots(figsize=(5, 5))\n",
    "ax.matshow(conf_matrix, cmap=plt.cm.Oranges, alpha=0.9)\n",
    "for i in range(conf_matrix.shape[0]):\n",
    "    for j in range(conf_matrix.shape[1]):\n",
    "        ax.text(x=j, y=i,s=conf_matrix[i, j], va='center', ha='center', size='xx-large')\n",
    "\n",
    "plt.xlabel('Predictions', fontsize=18)\n",
    "plt.ylabel('Actuals', fontsize=18)\n",
    "plt.title('Confusion Matrix', fontsize=18)\n",
    "plt.show()"
   ]
  },
  {
   "cell_type": "code",
   "execution_count": 14,
   "metadata": {},
   "outputs": [
    {
     "name": "stdout",
     "output_type": "stream",
     "text": [
      "              precision    recall  f1-score   support\n",
      "\n",
      "           0       1.00      1.00      1.00        43\n",
      "           1       1.00      1.00      1.00        38\n",
      "           2       1.00      1.00      1.00        39\n",
      "\n",
      "    accuracy                           1.00       120\n",
      "   macro avg       1.00      1.00      1.00       120\n",
      "weighted avg       1.00      1.00      1.00       120\n",
      "\n"
     ]
    }
   ],
   "source": [
    "print(classification_report(y_train_pred, y_train))"
   ]
  },
  {
   "cell_type": "code",
   "execution_count": 15,
   "metadata": {},
   "outputs": [
    {
     "data": {
      "image/png": "[encoded data removed]",
      "text/plain": [
       "<Figure size 360x360 with 1 Axes>"
      ]
     },
     "metadata": {
      "needs_background": "light"
     },
     "output_type": "display_data"
    }
   ],
   "source": [
    "# for testing data\n",
    "conf_matrix = confusion_matrix(y_test_pred, y_test)\n",
    "fig, ax = plt.subplots(figsize=(5, 5))\n",
    "ax.matshow(conf_matrix, cmap=plt.cm.Oranges, alpha=0.9)\n",
    "for i in range(conf_matrix.shape[0]):\n",
    "    for j in range(conf_matrix.shape[1]):\n",
    "        ax.text(x=j, y=i,s=conf_matrix[i, j], va='center', ha='center', size='xx-large')\n",
    "\n",
    "plt.xlabel('Predictions', fontsize=18)\n",
    "plt.ylabel('Actuals', fontsize=18)\n",
    "plt.title('Confusion Matrix', fontsize=18)\n",
    "plt.show()"
   ]
  },
  {
   "cell_type": "code",
   "execution_count": 16,
   "metadata": {},
   "outputs": [
    {
     "name": "stdout",
     "output_type": "stream",
     "text": [
      "              precision    recall  f1-score   support\n",
      "\n",
      "           0       1.00      1.00      1.00         7\n",
      "           1       0.92      0.92      0.92        12\n",
      "           2       0.91      0.91      0.91        11\n",
      "\n",
      "    accuracy                           0.93        30\n",
      "   macro avg       0.94      0.94      0.94        30\n",
      "weighted avg       0.93      0.93      0.93        30\n",
      "\n"
     ]
    }
   ],
   "source": [
    "print(classification_report(y_test_pred, y_test))"
   ]
  },
  {
   "cell_type": "markdown",
   "metadata": {},
   "source": [
    "# Please try to change DT to other 7 classification models for practice"
   ]
  }
 ],
 "metadata": {
  "kernelspec": {
   "display_name": "Python 3",
   "language": "python",
   "name": "python3"
  },
  "language_info": {
   "codemirror_mode": {
    "name": "ipython",
    "version": 3
   },
   "file_extension": ".py",
   "mimetype": "text/x-python",
   "name": "python",
   "nbconvert_exporter": "python",
   "pygments_lexer": "ipython3",
   "version": "3.7.6"
  }
 },
 "nbformat": 4,
 "nbformat_minor": 4
}
