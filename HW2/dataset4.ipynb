{
 "cells": [
  {
   "cell_type": "markdown",
   "metadata": {},
   "source": [
    "# HW2 of DAML\n",
    "- Dataset: store sale prediction"
   ]
  },
  {
   "cell_type": "code",
   "execution_count": 1,
   "metadata": {},
   "outputs": [],
   "source": [
    "import pandas as pd\n",
    "import numpy as np\n",
    "from sklearn.model_selection import train_test_split\n",
    "from sklearn.ensemble import RandomForestRegressor\n",
    "from sklearn.metrics import mean_squared_error\n",
    "import joblib"
   ]
  },
  {
   "cell_type": "code",
   "execution_count": 2,
   "metadata": {},
   "outputs": [
    {
     "name": "stdout",
     "output_type": "stream",
     "text": [
      "   id        date  store_nbr      family  sales  onpromotion\n",
      "0   0  2013-01-01          1  AUTOMOTIVE    0.0            0\n",
      "1   1  2013-01-01          1   BABY CARE    0.0            0\n",
      "2   2  2013-01-01          1      BEAUTY    0.0            0\n",
      "3   3  2013-01-01          1   BEVERAGES    0.0            0\n",
      "4   4  2013-01-01          1       BOOKS    0.0            0\n",
      "         date     type    locale locale_name                    description  \\\n",
      "0  2012-03-02  Holiday     Local       Manta             Fundacion de Manta   \n",
      "1  2012-04-01  Holiday  Regional    Cotopaxi  Provincializacion de Cotopaxi   \n",
      "2  2012-04-12  Holiday     Local      Cuenca            Fundacion de Cuenca   \n",
      "3  2012-04-14  Holiday     Local    Libertad      Cantonizacion de Libertad   \n",
      "4  2012-04-21  Holiday     Local    Riobamba      Cantonizacion de Riobamba   \n",
      "\n",
      "   transferred  \n",
      "0        False  \n",
      "1        False  \n",
      "2        False  \n",
      "3        False  \n",
      "4        False  \n",
      "         date  dcoilwtico\n",
      "0  2013-01-01         NaN\n",
      "1  2013-01-02       93.14\n",
      "2  2013-01-03       92.97\n",
      "3  2013-01-04       93.12\n",
      "4  2013-01-07       93.20\n",
      "   store_nbr           city                           state type  cluster\n",
      "0          1          Quito                       Pichincha    D       13\n",
      "1          2          Quito                       Pichincha    D       13\n",
      "2          3          Quito                       Pichincha    D        8\n",
      "3          4          Quito                       Pichincha    D        9\n",
      "4          5  Santo Domingo  Santo Domingo de los Tsachilas    D        4\n",
      "         date  store_nbr  transactions\n",
      "0  2013-01-01         25           770\n",
      "1  2013-01-02          1          2111\n",
      "2  2013-01-02          2          2358\n",
      "3  2013-01-02          3          3487\n",
      "4  2013-01-02          4          1922\n",
      "        id        date  store_nbr      family  onpromotion\n",
      "0  3000888  2017-08-16          1  AUTOMOTIVE            0\n",
      "1  3000889  2017-08-16          1   BABY CARE            0\n",
      "2  3000890  2017-08-16          1      BEAUTY            2\n",
      "3  3000891  2017-08-16          1   BEVERAGES           20\n",
      "4  3000892  2017-08-16          1       BOOKS            0\n"
     ]
    }
   ],
   "source": [
    "# Load datasets\n",
    "dataset = pd.read_csv('./store_sale_prediction/dataset.csv')\n",
    "holidays_events = pd.read_csv('./store_sale_prediction/holidays_events.csv')\n",
    "oil = pd.read_csv('./store_sale_prediction/oil.csv')\n",
    "stores = pd.read_csv('./store_sale_prediction/stores.csv')\n",
    "transactions = pd.read_csv('./store_sale_prediction/transactions.csv')\n",
    "validation = pd.read_csv('./store_sale_prediction/validations.csv')\n",
    "\n",
    "# Display the first few rows of each dataset for verification\n",
    "print(dataset.head())\n",
    "print(holidays_events.head())\n",
    "print(oil.head())\n",
    "print(stores.head())\n",
    "print(transactions.head())\n",
    "print(validation.head())\n"
   ]
  },
  {
   "cell_type": "code",
   "execution_count": 3,
   "metadata": {},
   "outputs": [],
   "source": [
    "# Ensure 'date' columns are in datetime format\n",
    "dataset['date'] = pd.to_datetime(dataset['date'])\n",
    "holidays_events['date'] = pd.to_datetime(holidays_events['date'])\n",
    "oil['date'] = pd.to_datetime(oil['date'])\n",
    "transactions['date'] = pd.to_datetime(transactions['date'])\n",
    "validation['date'] = pd.to_datetime(validation['date'])"
   ]
  },
  {
   "cell_type": "code",
   "execution_count": 4,
   "metadata": {},
   "outputs": [
    {
     "name": "stderr",
     "output_type": "stream",
     "text": [
      "/var/folders/09/1tps27xd5fx1ztnqbvpvp7l40000gn/T/ipykernel_32910/3640111858.py:2: FutureWarning: Series.fillna with 'method' is deprecated and will raise in a future version. Use obj.ffill() or obj.bfill() instead.\n",
      "  oil['dcoilwtico'].fillna(method='ffill', inplace=True)\n"
     ]
    }
   ],
   "source": [
    "# Fill missing oil prices by forward filling\n",
    "oil['dcoilwtico'].fillna(method='ffill', inplace=True)"
   ]
  },
  {
   "cell_type": "code",
   "execution_count": 5,
   "metadata": {},
   "outputs": [],
   "source": [
    "# Merge datasets with suffixes to avoid column name conflicts\n",
    "dataset = pd.merge(dataset, oil, on='date', how='left', suffixes=('', '_oil'))\n",
    "dataset = pd.merge(dataset, holidays_events, on='date', how='left', suffixes=('', '_holiday'))\n",
    "dataset = pd.merge(dataset, stores, on='store_nbr', how='left', suffixes=('', '_store'))\n",
    "dataset = pd.merge(dataset, transactions, on=['date', 'store_nbr'], how='left', suffixes=('', '_transaction'))\n",
    "\n",
    "# Handle column conflicts by dropping or renaming columns\n",
    "columns_to_drop = [\n",
    "    'dcoilwtico_oil', 'type_holiday', 'locale_holiday', 'locale_name_holiday', 'description_holiday', 'transferred_holiday',\n",
    "    'type_store', 'locale_store', 'locale_name_store', 'description_store', 'transferred_store',\n",
    "    'type_transaction', 'locale_transaction', 'locale_name_transaction', 'description_transaction', 'transferred_transaction'\n",
    "]\n",
    "dataset.drop(columns=[col for col in columns_to_drop if col in dataset.columns], inplace=True)"
   ]
  },
  {
   "cell_type": "code",
   "execution_count": 7,
   "metadata": {},
   "outputs": [
    {
     "name": "stdout",
     "output_type": "stream",
     "text": [
      "16\n",
      "id,date,store_nbr,family,sales,onpromotion,dcoilwtico,type,locale,locale_name,description,transferred,city,state,cluster,transactions,"
     ]
    }
   ],
   "source": [
    "print(len(list(dataset.columns)))\n",
    "for col in dataset.columns:\n",
    "    print(col, end=',')"
   ]
  },
  {
   "cell_type": "code",
   "execution_count": null,
   "metadata": {},
   "outputs": [
    {
     "data": {
      "text/html": [
       "<div>\n",
       "<style scoped>\n",
       "    .dataframe tbody tr th:only-of-type {\n",
       "        vertical-align: middle;\n",
       "    }\n",
       "\n",
       "    .dataframe tbody tr th {\n",
       "        vertical-align: top;\n",
       "    }\n",
       "\n",
       "    .dataframe thead th {\n",
       "        text-align: right;\n",
       "    }\n",
       "</style>\n",
       "<table border=\"1\" class=\"dataframe\">\n",
       "  <thead>\n",
       "    <tr style=\"text-align: right;\">\n",
       "      <th></th>\n",
       "      <th>id</th>\n",
       "      <th>date</th>\n",
       "      <th>store_nbr</th>\n",
       "      <th>family</th>\n",
       "      <th>sales</th>\n",
       "      <th>onpromotion</th>\n",
       "      <th>dcoilwtico</th>\n",
       "      <th>type</th>\n",
       "      <th>locale</th>\n",
       "      <th>locale_name</th>\n",
       "      <th>description</th>\n",
       "      <th>transferred</th>\n",
       "      <th>city</th>\n",
       "      <th>state</th>\n",
       "      <th>cluster</th>\n",
       "      <th>transactions</th>\n",
       "    </tr>\n",
       "  </thead>\n",
       "  <tbody>\n",
       "    <tr>\n",
       "      <th>3054338</th>\n",
       "      <td>3000878</td>\n",
       "      <td>2017-08-15</td>\n",
       "      <td>9</td>\n",
       "      <td>MAGAZINES</td>\n",
       "      <td>11.000</td>\n",
       "      <td>0</td>\n",
       "      <td>47.57</td>\n",
       "      <td>Holiday</td>\n",
       "      <td>Local</td>\n",
       "      <td>Riobamba</td>\n",
       "      <td>Fundacion de Riobamba</td>\n",
       "      <td>False</td>\n",
       "      <td>Quito</td>\n",
       "      <td>Pichincha</td>\n",
       "      <td>6</td>\n",
       "      <td>2155.0</td>\n",
       "    </tr>\n",
       "    <tr>\n",
       "      <th>3054339</th>\n",
       "      <td>3000879</td>\n",
       "      <td>2017-08-15</td>\n",
       "      <td>9</td>\n",
       "      <td>MEATS</td>\n",
       "      <td>449.228</td>\n",
       "      <td>0</td>\n",
       "      <td>47.57</td>\n",
       "      <td>Holiday</td>\n",
       "      <td>Local</td>\n",
       "      <td>Riobamba</td>\n",
       "      <td>Fundacion de Riobamba</td>\n",
       "      <td>False</td>\n",
       "      <td>Quito</td>\n",
       "      <td>Pichincha</td>\n",
       "      <td>6</td>\n",
       "      <td>2155.0</td>\n",
       "    </tr>\n",
       "    <tr>\n",
       "      <th>3054340</th>\n",
       "      <td>3000880</td>\n",
       "      <td>2017-08-15</td>\n",
       "      <td>9</td>\n",
       "      <td>PERSONAL CARE</td>\n",
       "      <td>522.000</td>\n",
       "      <td>11</td>\n",
       "      <td>47.57</td>\n",
       "      <td>Holiday</td>\n",
       "      <td>Local</td>\n",
       "      <td>Riobamba</td>\n",
       "      <td>Fundacion de Riobamba</td>\n",
       "      <td>False</td>\n",
       "      <td>Quito</td>\n",
       "      <td>Pichincha</td>\n",
       "      <td>6</td>\n",
       "      <td>2155.0</td>\n",
       "    </tr>\n",
       "    <tr>\n",
       "      <th>3054341</th>\n",
       "      <td>3000881</td>\n",
       "      <td>2017-08-15</td>\n",
       "      <td>9</td>\n",
       "      <td>PET SUPPLIES</td>\n",
       "      <td>6.000</td>\n",
       "      <td>0</td>\n",
       "      <td>47.57</td>\n",
       "      <td>Holiday</td>\n",
       "      <td>Local</td>\n",
       "      <td>Riobamba</td>\n",
       "      <td>Fundacion de Riobamba</td>\n",
       "      <td>False</td>\n",
       "      <td>Quito</td>\n",
       "      <td>Pichincha</td>\n",
       "      <td>6</td>\n",
       "      <td>2155.0</td>\n",
       "    </tr>\n",
       "    <tr>\n",
       "      <th>3054342</th>\n",
       "      <td>3000882</td>\n",
       "      <td>2017-08-15</td>\n",
       "      <td>9</td>\n",
       "      <td>PLAYERS AND ELECTRONICS</td>\n",
       "      <td>6.000</td>\n",
       "      <td>0</td>\n",
       "      <td>47.57</td>\n",
       "      <td>Holiday</td>\n",
       "      <td>Local</td>\n",
       "      <td>Riobamba</td>\n",
       "      <td>Fundacion de Riobamba</td>\n",
       "      <td>False</td>\n",
       "      <td>Quito</td>\n",
       "      <td>Pichincha</td>\n",
       "      <td>6</td>\n",
       "      <td>2155.0</td>\n",
       "    </tr>\n",
       "    <tr>\n",
       "      <th>3054343</th>\n",
       "      <td>3000883</td>\n",
       "      <td>2017-08-15</td>\n",
       "      <td>9</td>\n",
       "      <td>POULTRY</td>\n",
       "      <td>438.133</td>\n",
       "      <td>0</td>\n",
       "      <td>47.57</td>\n",
       "      <td>Holiday</td>\n",
       "      <td>Local</td>\n",
       "      <td>Riobamba</td>\n",
       "      <td>Fundacion de Riobamba</td>\n",
       "      <td>False</td>\n",
       "      <td>Quito</td>\n",
       "      <td>Pichincha</td>\n",
       "      <td>6</td>\n",
       "      <td>2155.0</td>\n",
       "    </tr>\n",
       "    <tr>\n",
       "      <th>3054344</th>\n",
       "      <td>3000884</td>\n",
       "      <td>2017-08-15</td>\n",
       "      <td>9</td>\n",
       "      <td>PREPARED FOODS</td>\n",
       "      <td>154.553</td>\n",
       "      <td>1</td>\n",
       "      <td>47.57</td>\n",
       "      <td>Holiday</td>\n",
       "      <td>Local</td>\n",
       "      <td>Riobamba</td>\n",
       "      <td>Fundacion de Riobamba</td>\n",
       "      <td>False</td>\n",
       "      <td>Quito</td>\n",
       "      <td>Pichincha</td>\n",
       "      <td>6</td>\n",
       "      <td>2155.0</td>\n",
       "    </tr>\n",
       "    <tr>\n",
       "      <th>3054345</th>\n",
       "      <td>3000885</td>\n",
       "      <td>2017-08-15</td>\n",
       "      <td>9</td>\n",
       "      <td>PRODUCE</td>\n",
       "      <td>2419.729</td>\n",
       "      <td>148</td>\n",
       "      <td>47.57</td>\n",
       "      <td>Holiday</td>\n",
       "      <td>Local</td>\n",
       "      <td>Riobamba</td>\n",
       "      <td>Fundacion de Riobamba</td>\n",
       "      <td>False</td>\n",
       "      <td>Quito</td>\n",
       "      <td>Pichincha</td>\n",
       "      <td>6</td>\n",
       "      <td>2155.0</td>\n",
       "    </tr>\n",
       "    <tr>\n",
       "      <th>3054346</th>\n",
       "      <td>3000886</td>\n",
       "      <td>2017-08-15</td>\n",
       "      <td>9</td>\n",
       "      <td>SCHOOL AND OFFICE SUPPLIES</td>\n",
       "      <td>121.000</td>\n",
       "      <td>8</td>\n",
       "      <td>47.57</td>\n",
       "      <td>Holiday</td>\n",
       "      <td>Local</td>\n",
       "      <td>Riobamba</td>\n",
       "      <td>Fundacion de Riobamba</td>\n",
       "      <td>False</td>\n",
       "      <td>Quito</td>\n",
       "      <td>Pichincha</td>\n",
       "      <td>6</td>\n",
       "      <td>2155.0</td>\n",
       "    </tr>\n",
       "    <tr>\n",
       "      <th>3054347</th>\n",
       "      <td>3000887</td>\n",
       "      <td>2017-08-15</td>\n",
       "      <td>9</td>\n",
       "      <td>SEAFOOD</td>\n",
       "      <td>16.000</td>\n",
       "      <td>0</td>\n",
       "      <td>47.57</td>\n",
       "      <td>Holiday</td>\n",
       "      <td>Local</td>\n",
       "      <td>Riobamba</td>\n",
       "      <td>Fundacion de Riobamba</td>\n",
       "      <td>False</td>\n",
       "      <td>Quito</td>\n",
       "      <td>Pichincha</td>\n",
       "      <td>6</td>\n",
       "      <td>2155.0</td>\n",
       "    </tr>\n",
       "  </tbody>\n",
       "</table>\n",
       "</div>"
      ],
      "text/plain": [
       "              id       date  store_nbr                      family     sales  \\\n",
       "3054338  3000878 2017-08-15          9                   MAGAZINES    11.000   \n",
       "3054339  3000879 2017-08-15          9                       MEATS   449.228   \n",
       "3054340  3000880 2017-08-15          9               PERSONAL CARE   522.000   \n",
       "3054341  3000881 2017-08-15          9                PET SUPPLIES     6.000   \n",
       "3054342  3000882 2017-08-15          9     PLAYERS AND ELECTRONICS     6.000   \n",
       "3054343  3000883 2017-08-15          9                     POULTRY   438.133   \n",
       "3054344  3000884 2017-08-15          9              PREPARED FOODS   154.553   \n",
       "3054345  3000885 2017-08-15          9                     PRODUCE  2419.729   \n",
       "3054346  3000886 2017-08-15          9  SCHOOL AND OFFICE SUPPLIES   121.000   \n",
       "3054347  3000887 2017-08-15          9                     SEAFOOD    16.000   \n",
       "\n",
       "         onpromotion  dcoilwtico     type locale locale_name  \\\n",
       "3054338            0       47.57  Holiday  Local    Riobamba   \n",
       "3054339            0       47.57  Holiday  Local    Riobamba   \n",
       "3054340           11       47.57  Holiday  Local    Riobamba   \n",
       "3054341            0       47.57  Holiday  Local    Riobamba   \n",
       "3054342            0       47.57  Holiday  Local    Riobamba   \n",
       "3054343            0       47.57  Holiday  Local    Riobamba   \n",
       "3054344            1       47.57  Holiday  Local    Riobamba   \n",
       "3054345          148       47.57  Holiday  Local    Riobamba   \n",
       "3054346            8       47.57  Holiday  Local    Riobamba   \n",
       "3054347            0       47.57  Holiday  Local    Riobamba   \n",
       "\n",
       "                   description transferred   city      state  cluster  \\\n",
       "3054338  Fundacion de Riobamba       False  Quito  Pichincha        6   \n",
       "3054339  Fundacion de Riobamba       False  Quito  Pichincha        6   \n",
       "3054340  Fundacion de Riobamba       False  Quito  Pichincha        6   \n",
       "3054341  Fundacion de Riobamba       False  Quito  Pichincha        6   \n",
       "3054342  Fundacion de Riobamba       False  Quito  Pichincha        6   \n",
       "3054343  Fundacion de Riobamba       False  Quito  Pichincha        6   \n",
       "3054344  Fundacion de Riobamba       False  Quito  Pichincha        6   \n",
       "3054345  Fundacion de Riobamba       False  Quito  Pichincha        6   \n",
       "3054346  Fundacion de Riobamba       False  Quito  Pichincha        6   \n",
       "3054347  Fundacion de Riobamba       False  Quito  Pichincha        6   \n",
       "\n",
       "         transactions  \n",
       "3054338        2155.0  \n",
       "3054339        2155.0  \n",
       "3054340        2155.0  \n",
       "3054341        2155.0  \n",
       "3054342        2155.0  \n",
       "3054343        2155.0  \n",
       "3054344        2155.0  \n",
       "3054345        2155.0  \n",
       "3054346        2155.0  \n",
       "3054347        2155.0  "
      ]
     },
     "metadata": {},
     "output_type": "display_data"
    }
   ],
   "source": [
    "dataset.tail(10)"
   ]
  },
  {
   "cell_type": "code",
   "execution_count": 9,
   "metadata": {},
   "outputs": [],
   "source": [
    "# Fill any remaining missing values\n",
    "dataset.fillna(0, inplace=True)"
   ]
  },
  {
   "cell_type": "code",
   "execution_count": 10,
   "metadata": {},
   "outputs": [],
   "source": [
    "# Feature engineering: add new features if needed\n",
    "dataset['year'] = dataset['date'].dt.year\n",
    "dataset['month'] = dataset['date'].dt.month\n",
    "dataset['day'] = dataset['date'].dt.day\n",
    "dataset['dayofweek'] = dataset['date'].dt.dayofweek"
   ]
  },
  {
   "cell_type": "markdown",
   "metadata": {},
   "source": [
    "## Validation Dataset"
   ]
  },
  {
   "cell_type": "code",
   "execution_count": 11,
   "metadata": {},
   "outputs": [],
   "source": [
    "# Apply the same transformation to the validation set\n",
    "validation = pd.merge(validation, oil, on='date', how='left', suffixes=('', '_oil'))\n",
    "validation = pd.merge(validation, holidays_events, on='date', how='left', suffixes=('', '_holiday'))\n",
    "validation = pd.merge(validation, stores, on='store_nbr', how='left', suffixes=('', '_store'))\n",
    "validation = pd.merge(validation, transactions, on=['date', 'store_nbr'], how='left', suffixes=('', '_transaction'))\n",
    "validation.fillna(0, inplace=True)\n",
    "validation['year'] = validation['date'].dt.year\n",
    "validation['month'] = validation['date'].dt.month\n",
    "validation['day'] = validation['date'].dt.day\n",
    "validation['dayofweek'] = validation['date'].dt.dayofweek\n"
   ]
  },
  {
   "cell_type": "code",
   "execution_count": 15,
   "metadata": {},
   "outputs": [
    {
     "name": "stdout",
     "output_type": "stream",
     "text": [
      "20\n",
      "id,date,store_nbr,family,sales,onpromotion,dcoilwtico,type,locale,locale_name,description,transferred,city,state,cluster,transactions,year,month,day,dayofweek,"
     ]
    }
   ],
   "source": [
    "print(len(list(dataset.columns)))\n",
    "for col in dataset.columns:\n",
    "    print(col, end=',')"
   ]
  },
  {
   "cell_type": "code",
   "execution_count": 14,
   "metadata": {},
   "outputs": [
    {
     "name": "stdout",
     "output_type": "stream",
     "text": [
      "20\n",
      "id,date,store_nbr,family,onpromotion,dcoilwtico,type,locale,locale_name,description,transferred,city,state,type_store,cluster,transactions,year,month,day,dayofweek,"
     ]
    }
   ],
   "source": [
    "print(len(list(validation.columns)))\n",
    "for col in validation.columns:\n",
    "    print(col, end=',')"
   ]
  },
  {
   "cell_type": "code",
   "execution_count": 18,
   "metadata": {},
   "outputs": [
    {
     "name": "stdout",
     "output_type": "stream",
     "text": [
      "(2443478, 41)\n",
      "(610870, 41)\n",
      "(2443478,)\n",
      "(610870,)\n"
     ]
    }
   ],
   "source": [
    "# Define features and target\n",
    "features = ['store_nbr', 'family', 'onpromotion', 'dcoilwtico', 'transactions', 'year', 'month', 'day', 'dayofweek']\n",
    "X = dataset[features]\n",
    "y = dataset['sales']\n",
    "\n",
    "# One-hot encoding for categorical variables\n",
    "X = pd.get_dummies(X, columns=['family'])\n",
    "\n",
    "# Split the data into training and validation sets\n",
    "from sklearn.model_selection import train_test_split\n",
    "X_train, X_val, y_train, y_val = train_test_split(X, y, test_size=0.2, random_state=42)\n",
    "\n",
    "# Print shapes to verify\n",
    "print(X_train.shape)\n",
    "print(X_val.shape)\n",
    "print(y_train.shape)\n",
    "print(y_val.shape)\n"
   ]
  },
  {
   "cell_type": "markdown",
   "metadata": {},
   "source": [
    "## Training"
   ]
  },
  {
   "cell_type": "code",
   "execution_count": 19,
   "metadata": {},
   "outputs": [
    {
     "name": "stdout",
     "output_type": "stream",
     "text": [
      "Validation RMSE: 188.73371895227075\n"
     ]
    }
   ],
   "source": [
    "# Train a Random Forest model\n",
    "from sklearn.ensemble import RandomForestRegressor\n",
    "model = RandomForestRegressor(n_estimators=100, random_state=42)\n",
    "model.fit(X_train, y_train)\n",
    "\n",
    "# Validate the model\n",
    "from sklearn.metrics import mean_squared_error\n",
    "y_pred = model.predict(X_val)\n",
    "print('Validation RMSE:', mean_squared_error(y_val, y_pred, squared=False))"
   ]
  },
  {
   "cell_type": "markdown",
   "metadata": {},
   "source": [
    "- To check the RSME, use mean value to predict the validation set"
   ]
  },
  {
   "cell_type": "code",
   "execution_count": 23,
   "metadata": {},
   "outputs": [
    {
     "name": "stdout",
     "output_type": "stream",
     "text": [
      "Baseline RMSE: 1093.747755347675\n"
     ]
    }
   ],
   "source": [
    "import numpy as np\n",
    "\n",
    "# Calculate the mean sales in the training set\n",
    "baseline_sales = np.mean(y_train)\n",
    "\n",
    "# Predict the validation set using the baseline sales\n",
    "baseline_predictions = np.full_like(y_val, baseline_sales)\n",
    "\n",
    "# Calculate the RMSE for the baseline model\n",
    "baseline_rmse = mean_squared_error(y_val, baseline_predictions, squared=False)\n",
    "print('Baseline RMSE:', baseline_rmse)\n"
   ]
  },
  {
   "cell_type": "code",
   "execution_count": 24,
   "metadata": {},
   "outputs": [
    {
     "data": {
      "image/png": "[encoded data removed]",
      "text/plain": [
       "<Figure size 1000x600 with 1 Axes>"
      ]
     },
     "metadata": {},
     "output_type": "display_data"
    }
   ],
   "source": [
    "import matplotlib.pyplot as plt\n",
    "\n",
    "plt.figure(figsize=(10, 6))\n",
    "plt.plot(y_val.values[:100], label='Actual Sales')\n",
    "plt.plot(y_pred[:100], label='Predicted Sales')\n",
    "plt.xlabel('Sample')\n",
    "plt.ylabel('Sales')\n",
    "plt.legend()\n",
    "plt.show()\n"
   ]
  },
  {
   "cell_type": "code",
   "execution_count": null,
   "metadata": {},
   "outputs": [],
   "source": []
  },
  {
   "cell_type": "code",
   "execution_count": 20,
   "metadata": {},
   "outputs": [
    {
     "name": "stdout",
     "output_type": "stream",
     "text": [
      "Predictions saved to predictions.csv\n"
     ]
    }
   ],
   "source": [
    "# Prepare validation features\n",
    "X_test = validation[features]\n",
    "X_test = pd.get_dummies(X_test, columns=['family'])\n",
    "\n",
    "# Align the test set with the training set (in case of missing columns)\n",
    "X_test = X_test.reindex(columns=X_train.columns, fill_value=0)\n",
    "\n",
    "# Predict sales for the validation set\n",
    "validation['sales'] = model.predict(X_test)\n",
    "\n",
    "# Save the results to a CSV file\n",
    "output = validation[['id', 'sales']]\n",
    "output.to_csv('predictions.csv', index=False)\n",
    "\n",
    "print(\"Predictions saved to predictions.csv\")\n"
   ]
  },
  {
   "cell_type": "code",
   "execution_count": null,
   "metadata": {},
   "outputs": [],
   "source": []
  }
 ],
 "metadata": {
  "kernelspec": {
   "display_name": "base",
   "language": "python",
   "name": "python3"
  },
  "language_info": {
   "codemirror_mode": {
    "name": "ipython",
    "version": 3
   },
   "file_extension": ".py",
   "mimetype": "text/x-python",
   "name": "python",
   "nbconvert_exporter": "python",
   "pygments_lexer": "ipython3",
   "version": "3.11.7"
  }
 },
 "nbformat": 4,
 "nbformat_minor": 2
}
